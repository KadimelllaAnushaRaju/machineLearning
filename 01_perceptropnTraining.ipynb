{
  "nbformat": 4,
  "nbformat_minor": 0,
  "metadata": {
    "colab": {
      "name": "01_perceptropnTraining.ipynb",
      "provenance": [],
      "authorship_tag": "ABX9TyOpN0OMtkfsBdhkzph1OM01",
      "include_colab_link": true
    },
    "kernelspec": {
      "name": "python3",
      "display_name": "Python 3"
    },
    "language_info": {
      "name": "python"
    }
  },
  "cells": [
    {
      "cell_type": "markdown",
      "metadata": {
        "id": "view-in-github",
        "colab_type": "text"
      },
      "source": [
        "<a href=\"https://colab.research.google.com/github/KadimelllaAnushaRaju/machineLearning/blob/main/01_perceptropnTraining.ipynb\" target=\"_parent\"><img src=\"https://colab.research.google.com/assets/colab-badge.svg\" alt=\"Open In Colab\"/></a>"
      ]
    },
    {
      "cell_type": "code",
      "metadata": {
        "id": "JKCT1TKMWZoi"
      },
      "source": [
        ""
      ],
      "execution_count": null,
      "outputs": []
    },
    {
      "cell_type": "code",
      "metadata": {
        "id": "QELsdQ80aims"
      },
      "source": [
        "from google.colab import drive \n",
        "drive.mount('/content/drive')\n"
      ],
      "execution_count": null,
      "outputs": []
    },
    {
      "cell_type": "code",
      "metadata": {
        "colab": {
          "base_uri": "https://localhost:8080/"
        },
        "id": "PUzUyJCKbhBx",
        "outputId": "9ce37d13-c934-4818-ee2c-cb06594baf89"
      },
      "source": [
        "from google.colab import drive\n",
        "drive.mount('/content/drive')"
      ],
      "execution_count": 1,
      "outputs": [
        {
          "output_type": "stream",
          "text": [
            "Mounted at /content/drive\n"
          ],
          "name": "stdout"
        }
      ]
    },
    {
      "cell_type": "code",
      "metadata": {
        "id": "m8hvvsrGchl3"
      },
      "source": [
        "# Problem Statement\n",
        "train a model to learn table of 10\n",
        "equation:y =10*x"
      ],
      "execution_count": null,
      "outputs": []
    },
    {
      "cell_type": "markdown",
      "metadata": {
        "id": "_-ScRpthdtsq"
      },
      "source": [
        "##Data creation\n",
        "\n",
        "equation: 'y=10x'\n",
        "\n",
        "target-->\n",
        "\n",
        "x = [0,1,2,3,4,5,.....]\n",
        "y = [0,10,20,30,40,50....]"
      ]
    },
    {
      "cell_type": "code",
      "metadata": {
        "colab": {
          "base_uri": "https://localhost:8080/"
        },
        "id": "i1s61H-fePEr",
        "outputId": "79719c35-22b2-43b5-dcf5-d70da77670fb"
      },
      "source": [
        "x=[i for i in range(21)] #list comprehension\n",
        "print(x)"
      ],
      "execution_count": 17,
      "outputs": [
        {
          "output_type": "stream",
          "text": [
            "[0, 1, 2, 3, 4, 5, 6, 7, 8, 9, 10, 11, 12, 13, 14, 15, 16, 17, 18, 19, 20]\n"
          ],
          "name": "stdout"
        }
      ]
    },
    {
      "cell_type": "code",
      "metadata": {
        "colab": {
          "base_uri": "https://localhost:8080/"
        },
        "id": "VDnq7_FQe8mB",
        "outputId": "6ed35d65-7b7c-43f1-f812-1f0d61a88bcc"
      },
      "source": [
        "y = [i for i in range(10*20+1) if i%10==0]\n",
        "print(y)"
      ],
      "execution_count": 18,
      "outputs": [
        {
          "output_type": "stream",
          "text": [
            "[0, 10, 20, 30, 40, 50, 60, 70, 80, 90, 100, 110, 120, 130, 140, 150, 160, 170, 180, 190, 200]\n"
          ],
          "name": "stdout"
        }
      ]
    },
    {
      "cell_type": "markdown",
      "metadata": {
        "id": "lWlrEGJNgWN3"
      },
      "source": [
        "##Approach 1\n",
        "defining a function for the equation y=10x"
      ]
    },
    {
      "cell_type": "code",
      "metadata": {
        "id": "iHMRfisUgT3y"
      },
      "source": [
        "def tableoften(x):\n",
        "  y = 10*x\n",
        "  return y\n",
        "\n",
        "\n",
        "  for value in x:\n",
        "    print(tableoften(value))\n",
        "  "
      ],
      "execution_count": 20,
      "outputs": []
    },
    {
      "cell_type": "markdown",
      "metadata": {
        "id": "Y7nW0D2ehc_J"
      },
      "source": [
        "##approach 2\n",
        "reduntnat ml"
      ]
    },
    {
      "cell_type": "code",
      "metadata": {
        "colab": {
          "base_uri": "https://localhost:8080/"
        },
        "id": "sSuRVAaxiEaS",
        "outputId": "f1de16a7-aca1-44d3-e328-932e8eac12ab"
      },
      "source": [
        "\n",
        "print(f'this is x: {x}')\n",
        "print(f'this is y: {y}')\n"
      ],
      "execution_count": 21,
      "outputs": [
        {
          "output_type": "stream",
          "text": [
            "this is x: [0, 1, 2, 3, 4, 5, 6, 7, 8, 9, 10, 11, 12, 13, 14, 15, 16, 17, 18, 19, 20]\n",
            "this is y: [0, 10, 20, 30, 40, 50, 60, 70, 80, 90, 100, 110, 120, 130, 140, 150, 160, 170, 180, 190, 200]\n"
          ],
          "name": "stdout"
        }
      ]
    },
    {
      "cell_type": "code",
      "metadata": {
        "colab": {
          "base_uri": "https://localhost:8080/"
        },
        "id": "eNq381zqio9o",
        "outputId": "bf7b58eb-52a1-4c5b-956e-173efc7b148e"
      },
      "source": [
        "print(y[:-5])\n",
        "print(y[-5:])"
      ],
      "execution_count": 25,
      "outputs": [
        {
          "output_type": "stream",
          "text": [
            "[0, 10, 20, 30, 40, 50, 60, 70, 80, 90, 100, 110, 120, 130, 140, 150]\n",
            "[160, 170, 180, 190, 200]\n"
          ],
          "name": "stdout"
        }
      ]
    },
    {
      "cell_type": "code",
      "metadata": {
        "colab": {
          "base_uri": "https://localhost:8080/"
        },
        "id": "6Lbx95jJha5F",
        "outputId": "6ad927fc-0b57-4494-b389-b86f88a23300"
      },
      "source": [
        "xtrain = x[:-5]#training data\n",
        "yTrain = y[:-5]#training labels\n",
        "\n",
        "xTest = x[:-5]\n",
        "yTest = y[:-5]\n",
        "\n",
        "print(f'''\n",
        "\n",
        "traimimg data:\n",
        " \n",
        "xTrain : {xTrain}\n",
        "yTrain : {yTrain}\n",
        " \n",
        "Testing Data:\n",
        "\n",
        "xTest : {xTest}\n",
        "yTest : {yTest}\n",
        "''' )"
      ],
      "execution_count": 26,
      "outputs": [
        {
          "output_type": "stream",
          "text": [
            "\n",
            "\n",
            "traimimg data:\n",
            " \n",
            "xTrain : [0, 1, 2, 3, 4, 5, 6, 7, 8, 9, 10, 11, 12, 13, 14, 15, 16, 17, 18, 19, 20]\n",
            "yTrain : [0, 10, 20, 30, 40, 50, 60, 70, 80, 90, 100, 110, 120, 130, 140, 150]\n",
            " \n",
            "Testing Data:\n",
            "\n",
            "xTest : [0, 1, 2, 3, 4, 5, 6, 7, 8, 9, 10, 11, 12, 13, 14, 15]\n",
            "yTest : [0, 10, 20, 30, 40, 50, 60, 70, 80, 90, 100, 110, 120, 130, 140, 150]\n",
            "\n"
          ],
          "name": "stdout"
        }
      ]
    },
    {
      "cell_type": "code",
      "metadata": {
        "id": "_s4s00pQk2Aw"
      },
      "source": [
        "import tensorflow as tf\n",
        "from tensorflow import keras"
      ],
      "execution_count": null,
      "outputs": []
    },
    {
      "cell_type": "code",
      "metadata": {
        "id": "qKRmSH4vl7wE"
      },
      "source": [
        "#perceptron model\n",
        "\n",
        "model = tf.keras.sequential([tf.keras.layers.Dense(units=1,input_shape=[1])\n",
        "])"
      ],
      "execution_count": null,
      "outputs": []
    },
    {
      "cell_type": "code",
      "metadata": {
        "id": "AVSb1BoimZ22"
      },
      "source": [
        "model.complie()"
      ],
      "execution_count": null,
      "outputs": []
    }
  ]
}